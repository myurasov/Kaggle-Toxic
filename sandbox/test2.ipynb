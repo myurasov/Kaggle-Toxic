{
 "cells": [
  {
   "cell_type": "code",
   "execution_count": 1,
   "metadata": {},
   "outputs": [],
   "source": [
    "import math\n",
    "\n",
    "import bert\n",
    "import tensorflow as tf\n",
    "from bert import BertModelLayer, bert_tokenization\n",
    "from bert.loader import StockBertConfig, load_stock_weights, map_stock_config_to_params\n",
    "from tensorflow import keras"
   ]
  },
  {
   "cell_type": "code",
   "execution_count": 2,
   "metadata": {},
   "outputs": [],
   "source": [
    "# def flatten_layers(root_layer):\n",
    "#     if isinstance(root_layer, keras.layers.Layer):\n",
    "#         yield root_layer\n",
    "#     for layer in root_layer._layers:\n",
    "#         for sub_layer in flatten_layers(layer):\n",
    "#             yield sub_layer\n",
    "\n",
    "\n",
    "# def freeze_bert_layers(l_bert):\n",
    "#     \"\"\"\n",
    "#     Freezes all but LayerNorm and adapter layers as per https://arxiv.org/abs/1902.00751\n",
    "#     @see https://arxiv.org/abs/1902.00751\n",
    "#     \"\"\"\n",
    "#     for layer in flatten_layers(l_bert):\n",
    "#         if layer.name in [\"LayerNorm\", \"adapter-down\", \"adapter-up\"]:\n",
    "#             layer.trainable = True\n",
    "#         elif len(layer._layers) == 0:\n",
    "#             layer.trainable = False\n",
    "#         l_bert.embeddings_layer.trainable = False\n",
    "\n",
    "\n",
    "#  as per https://arxiv.org/abs/1902.00751\n",
    "def create_learning_rate_scheduler(\n",
    "    max_learn_rate=5e-5,\n",
    "    end_learn_rate=1e-7,\n",
    "    warmup_epoch_count=10,\n",
    "    total_epoch_count=90,\n",
    "):\n",
    "    \"\"\"\n",
    "    Leartning rate scheduler as per https://arxiv.org/abs/1902.00751\n",
    "    @see https://arxiv.org/abs/1902.00751\n",
    "    \"\"\"\n",
    "    def lr_scheduler(epoch):\n",
    "        if epoch < warmup_epoch_count:\n",
    "            res = (max_learn_rate / warmup_epoch_count) * (epoch + 1)\n",
    "        else:\n",
    "            res = max_learn_rate * math.exp(\n",
    "                math.log(end_learn_rate / max_learn_rate)\n",
    "                * (epoch - warmup_epoch_count + 1)\n",
    "                / (total_epoch_count - warmup_epoch_count + 1)\n",
    "            )\n",
    "        return float(res)\n",
    "\n",
    "    learning_rate_scheduler = tf.keras.callbacks.LearningRateScheduler(\n",
    "        lr_scheduler, verbose=1\n",
    "    )\n",
    "\n",
    "    return learning_rate_scheduler"
   ]
  },
  {
   "cell_type": "code",
   "execution_count": null,
   "metadata": {},
   "outputs": [],
   "source": []
  },
  {
   "cell_type": "code",
   "execution_count": 3,
   "metadata": {},
   "outputs": [
    {
     "name": "stdout",
     "output_type": "stream",
     "text": [
      "{'attention_probs_dropout_prob': 0.1, 'hidden_act': 'gelu', 'hidden_dropout_prob': 0.1, 'hidden_size': 768, 'initializer_range': 0.02, 'intermediate_size': 3072, 'max_position_embeddings': 512, 'num_attention_heads': 12, 'num_hidden_layers': 12, 'type_vocab_size': 2, 'vocab_size': 30522, 'ln_type': None, 'embedding_size': None}\n",
      "bert shape (None, 128, 768)\n",
      "Done loading 196 BERT weights from: /app/_data/bert/bert_model.ckpt into <bert.model.BertModelLayer object at 0x7f513dba2f70> (prefix:bert). Count of weights not found in the checkpoint was: [0]. Count of weights with mismatched shape: [0]\n",
      "Unused weights from checkpoint: \n",
      "\tbert/embeddings/token_type_embeddings\n",
      "\tbert/pooler/dense/bias\n",
      "\tbert/pooler/dense/kernel\n",
      "\tcls/predictions/output_bias\n",
      "\tcls/predictions/transform/LayerNorm/beta\n",
      "\tcls/predictions/transform/LayerNorm/gamma\n",
      "\tcls/predictions/transform/dense/bias\n",
      "\tcls/predictions/transform/dense/kernel\n",
      "\tcls/seq_relationship/output_bias\n",
      "\tcls/seq_relationship/output_weights\n",
      "Model: \"functional_1\"\n",
      "_________________________________________________________________\n",
      "Layer (type)                 Output Shape              Param #   \n",
      "=================================================================\n",
      "input_ids (InputLayer)       [(None, 128)]             0         \n",
      "_________________________________________________________________\n",
      "bert (BertModelLayer)        (None, 128, 768)          108890112 \n",
      "_________________________________________________________________\n",
      "lambda (Lambda)              (None, 768)               0         \n",
      "_________________________________________________________________\n",
      "dropout (Dropout)            (None, 768)               0         \n",
      "_________________________________________________________________\n",
      "dense (Dense)                (None, 768)               590592    \n",
      "_________________________________________________________________\n",
      "dropout_1 (Dropout)          (None, 768)               0         \n",
      "_________________________________________________________________\n",
      "dense_1 (Dense)              (None, 6)                 4614      \n",
      "=================================================================\n",
      "Total params: 109,485,318\n",
      "Trainable params: 109,485,318\n",
      "Non-trainable params: 0\n",
      "_________________________________________________________________\n"
     ]
    }
   ],
   "source": [
    "bert_config_file = \"/app/_data/bert/bert_config.json\"\n",
    "bert_ckpt_file = \"/app/_data/bert/bert_model.ckpt\"\n",
    "max_seq_len=128\n",
    "adapter_size=None\n",
    "\n",
    "\n",
    "# create the bert layer\n",
    "with tf.io.gfile.GFile(bert_config_file, \"r\") as reader:\n",
    "    bc = StockBertConfig.from_json_string(reader.read())\n",
    "    print(bc)\n",
    "    bert_params = map_stock_config_to_params(bc)\n",
    "    bert_params.adapter_size = adapter_size\n",
    "    bert = BertModelLayer.from_params(bert_params, name=\"bert\")\n",
    "\n",
    "input_token_ids = keras.layers.Input(\n",
    "    shape=(max_seq_len,), dtype=\"int32\", name=\"input_ids\"\n",
    ")\n",
    "\n",
    "# token_type_ids = keras.layers.Input(shape=(max_seq_len,), dtype='int32', name=\"token_type_ids\")\n",
    "# output         = bert([input_ids, token_type_ids])\n",
    "x = bert(input_token_ids)\n",
    "\n",
    "\n",
    "print(\"bert shape\", x.shape)\n",
    "\n",
    "x = keras.layers.Lambda(lambda seq: seq[:, 0, :])(x)\n",
    "x = keras.layers.Dropout(0.5)(x)\n",
    "x = keras.layers.Dense(units=768, activation=\"relu\")(x)\n",
    "x = keras.layers.Dropout(0.5)(x)\n",
    "x = keras.layers.Dense(units=6, activation=\"sigmoid\")(x)\n",
    "\n",
    "model = keras.Model(inputs=input_token_ids, outputs=x)\n",
    "model.build(input_shape=(None, max_seq_len))\n",
    "\n",
    "# load the pre-trained model weights\n",
    "load_stock_weights(bert, bert_ckpt_file)\n",
    "\n",
    "# # freeze weights if adapter-BERT is used\n",
    "# if adapter_size is not None:\n",
    "#     freeze_bert_layers(bert)\n",
    "\n",
    "model.compile(\n",
    "    optimizer=keras.optimizers.Adam(),\n",
    "    loss=keras.losses.SparseCategoricalCrossentropy(from_logits=True),\n",
    "    metrics=[keras.metrics.SparseCategoricalAccuracy(name=\"acc\")],\n",
    ")\n",
    "\n",
    "model.summary()"
   ]
  },
  {
   "cell_type": "code",
   "execution_count": 4,
   "metadata": {},
   "outputs": [
    {
     "data": {
      "text/plain": [
       "array([[1],\n",
       "       [2]])"
      ]
     },
     "execution_count": 4,
     "metadata": {},
     "output_type": "execute_result"
    }
   ],
   "source": [
    "import numpy as np\n",
    "a = np.array([[[1],[11],[111]], [[2],[22],[222]]])\n",
    "a[:,0,:]"
   ]
  },
  {
   "cell_type": "code",
   "execution_count": null,
   "metadata": {},
   "outputs": [],
   "source": []
  }
 ],
 "metadata": {
  "kernelspec": {
   "display_name": "Python 3",
   "language": "python",
   "name": "python3"
  },
  "language_info": {
   "codemirror_mode": {
    "name": "ipython",
    "version": 3
   },
   "file_extension": ".py",
   "mimetype": "text/x-python",
   "name": "python",
   "nbconvert_exporter": "python",
   "pygments_lexer": "ipython3",
   "version": "3.8.5"
  }
 },
 "nbformat": 4,
 "nbformat_minor": 4
}
